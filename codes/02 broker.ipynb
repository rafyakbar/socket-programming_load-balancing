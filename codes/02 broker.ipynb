{
 "cells": [
  {
   "cell_type": "code",
   "execution_count": 1,
   "id": "26b53048-02d3-455e-8df6-ca7af053a358",
   "metadata": {},
   "outputs": [],
   "source": [
    "from classes import BrokerServer\n",
    "import threading"
   ]
  },
  {
   "cell_type": "code",
   "execution_count": 2,
   "id": "fb6616b8-e467-4772-8983-562a50269496",
   "metadata": {},
   "outputs": [
    {
     "name": "stdout",
     "output_type": "stream",
     "text": [
      "Broker mendengarkan di localhost:8080\n",
      "\n",
      "Broker menerima gambar berukuran (207, 250).\n",
      "Load worker sebelum: {'Worker 1': 0, 'Worker 2': 0, 'Worker 3': 0}\n",
      "Broker mengirim gambar ke Worker 1\n",
      "Load worker sesudah: {'Worker 1': 1551, 'Worker 2': 0, 'Worker 3': 0}\n",
      "\n",
      "Broker menerima gambar berukuran (250, 198).\n",
      "Load worker sebelum: {'Worker 1': 1551, 'Worker 2': 0, 'Worker 3': 0}\n",
      "Broker mengirim gambar ke Worker 2\n",
      "Load worker sesudah: {'Worker 1': 1551, 'Worker 2': 1485, 'Worker 3': 0}\n",
      "\n",
      "Broker menerima gambar berukuran (250, 173).\n",
      "Load worker sebelum: {'Worker 1': 1551, 'Worker 2': 1485, 'Worker 3': 0}\n",
      "Broker mengirim gambar ke Worker 3\n",
      "Load worker sesudah: {'Worker 1': 1551, 'Worker 2': 1485, 'Worker 3': 432}\n",
      "\n",
      "Broker menerima gambar berukuran (250, 187).\n",
      "Load worker sebelum: {'Worker 1': 1551, 'Worker 2': 1485, 'Worker 3': 432}\n",
      "Broker mengirim gambar ke Worker 3\n",
      "Load worker sesudah: {'Worker 1': 1551, 'Worker 2': 1485, 'Worker 3': 1833}\n",
      "\n",
      "Broker menerima gambar berukuran (250, 187).\n",
      "Load worker sebelum: {'Worker 1': 1551, 'Worker 2': 1485, 'Worker 3': 1833}\n",
      "Broker mengirim gambar ke Worker 2\n",
      "Load worker sesudah: {'Worker 1': 1551, 'Worker 2': 1952, 'Worker 3': 1833}\n",
      "\n",
      "Broker menerima gambar berukuran (250, 219).\n",
      "Load worker sebelum: {'Worker 1': 1551, 'Worker 2': 1952, 'Worker 3': 1833}\n",
      "Broker mengirim gambar ke Worker 1\n",
      "Load worker sesudah: {'Worker 1': 2098, 'Worker 2': 1952, 'Worker 3': 1833}\n",
      "\n",
      "Broker menerima gambar berukuran (250, 187).\n",
      "Load worker sebelum: {'Worker 1': 2098, 'Worker 2': 1952, 'Worker 3': 1833}\n",
      "Broker mengirim gambar ke Worker 3\n",
      "Load worker sesudah: {'Worker 1': 2098, 'Worker 2': 1952, 'Worker 3': 3234}\n",
      "\n",
      "Broker menerima gambar berukuran (250, 187).\n",
      "Load worker sebelum: {'Worker 1': 2098, 'Worker 2': 1952, 'Worker 3': 3234}\n",
      "Broker mengirim gambar ke Worker 2\n",
      "Load worker sesudah: {'Worker 1': 2098, 'Worker 2': 3353, 'Worker 3': 3234}\n",
      "\n",
      "Broker menerima gambar berukuran (250, 181).\n",
      "Load worker sebelum: {'Worker 1': 2098, 'Worker 2': 3353, 'Worker 3': 3234}\n",
      "Broker mengirim gambar ke Worker 1\n",
      "Load worker sesudah: {'Worker 1': 2550, 'Worker 2': 3353, 'Worker 3': 3234}\n",
      "\n",
      "Broker menerima gambar berukuran (250, 187).\n",
      "Load worker sebelum: {'Worker 1': 2550, 'Worker 2': 3353, 'Worker 3': 3234}\n",
      "Broker mengirim gambar ke Worker 1\n",
      "Load worker sesudah: {'Worker 1': 3951, 'Worker 2': 3353, 'Worker 3': 3234}\n",
      "\n"
     ]
    }
   ],
   "source": [
    "broker = BrokerServer('localhost', 8080)\n",
    "threading.Thread(target=broker.start).start()"
   ]
  },
  {
   "cell_type": "code",
   "execution_count": null,
   "id": "9efcd663-e2d3-4cb1-9416-f7c2e481e2b7",
   "metadata": {},
   "outputs": [],
   "source": []
  }
 ],
 "metadata": {
  "kernelspec": {
   "display_name": "Python 3 (ipykernel)",
   "language": "python",
   "name": "python3"
  },
  "language_info": {
   "codemirror_mode": {
    "name": "ipython",
    "version": 3
   },
   "file_extension": ".py",
   "mimetype": "text/x-python",
   "name": "python",
   "nbconvert_exporter": "python",
   "pygments_lexer": "ipython3",
   "version": "3.10.6"
  }
 },
 "nbformat": 4,
 "nbformat_minor": 5
}
