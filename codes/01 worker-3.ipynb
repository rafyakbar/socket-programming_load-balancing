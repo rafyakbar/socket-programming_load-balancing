{
 "cells": [
  {
   "cell_type": "code",
   "execution_count": 1,
   "id": "d429c928-648d-4226-9605-dec02768caa7",
   "metadata": {},
   "outputs": [],
   "source": [
    "from classes import WorkerServer\n",
    "import threading"
   ]
  },
  {
   "cell_type": "code",
   "execution_count": 2,
   "id": "6b7877f2-6252-4812-aca5-808475e4a73a",
   "metadata": {},
   "outputs": [
    {
     "name": "stdout",
     "output_type": "stream",
     "text": [
      "Worker 3 running di localhost:8003\n",
      "Worker 3 menerima gambar berukuran (250, 173).\n",
      "Worker 3 memproses gambar.\n",
      "Worker 3 telah mengirim hasil kembali ke broker.\n",
      "Worker 3 menerima gambar berukuran (250, 187).\n",
      "Worker 3 memproses gambar.\n",
      "Worker 3 telah mengirim hasil kembali ke broker.\n",
      "Worker 3 menerima gambar berukuran (250, 187).\n",
      "Worker 3 memproses gambar.\n",
      "Worker 3 telah mengirim hasil kembali ke broker.\n"
     ]
    }
   ],
   "source": [
    "worker = WorkerServer(3, 'localhost', 8003)\n",
    "threading.Thread(target=worker.start).start()"
   ]
  },
  {
   "cell_type": "code",
   "execution_count": null,
   "id": "5e7e0239-b284-42b9-bd89-38f705d9e9ab",
   "metadata": {},
   "outputs": [],
   "source": []
  }
 ],
 "metadata": {
  "kernelspec": {
   "display_name": "Python 3 (ipykernel)",
   "language": "python",
   "name": "python3"
  },
  "language_info": {
   "codemirror_mode": {
    "name": "ipython",
    "version": 3
   },
   "file_extension": ".py",
   "mimetype": "text/x-python",
   "name": "python",
   "nbconvert_exporter": "python",
   "pygments_lexer": "ipython3",
   "version": "3.10.6"
  }
 },
 "nbformat": 4,
 "nbformat_minor": 5
}
